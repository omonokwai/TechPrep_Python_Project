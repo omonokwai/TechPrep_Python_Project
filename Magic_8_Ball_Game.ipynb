{
 "cells": [
  {
   "cell_type": "code",
   "execution_count": 1,
   "id": "28a8386c",
   "metadata": {},
   "outputs": [
    {
     "name": "stdout",
     "output_type": "stream",
     "text": [
      "Please ask magic 8 your question:\n",
      "Am i handsome\n",
      "\n",
      "the answer to:\n",
      "\n",
      " Am i handsome? \n",
      "\n",
      " is \n",
      "\n",
      " can not predict now.\n",
      "\n",
      "Enter 'yes' to continue and  'no' to end game\n",
      "\n",
      "Do you want to try again?\n",
      "yes\n",
      "Please ask magic 8 your question:\n",
      "Am i 35yars\n",
      "\n",
      "the answer to:\n",
      "\n",
      " Am i 35yars? \n",
      "\n",
      " is \n",
      "\n",
      " my reply is no.\n",
      "\n",
      "Enter 'yes' to continue and  'no' to end game\n",
      "\n",
      "Do you want to try again?\n",
      "no\n",
      "\n",
      "Your response was no. Thank you for playing\n"
     ]
    }
   ],
   "source": [
    "# Import Random \n",
    "\n",
    "import random\n",
    "\n",
    "\n",
    "# list of possible answers: 3 from the affirmation answers, 3 from the non-committal and 3 from the negative\n",
    "\n",
    "answers = ['it is certain','without a doubt','yes','ask again later','can not predict now','concentrate and ask again',\\\n",
    "          'Very doubtful', 'my reply is no','my sources said no']\n",
    "\n",
    "# user question: The user will input question\n",
    "\n",
    "question = input('Please ask magic 8 your question:\\n')\n",
    "\n",
    "\n",
    "play_magic_8 = 'yes'\n",
    "\n",
    "#creating a while loop to keep the game playing\n",
    "while play_magic_8 == 'yes':\n",
    "    \n",
    "    print()\n",
    "    \n",
    "    magic_answer = random.choice(answers)\n",
    "    \n",
    "    print(f'the answer to:\\n\\n {question}? \\n\\n is \\n\\n {magic_answer}.')\n",
    "    \n",
    "    print()\n",
    "    print(\"Enter 'yes' to continue and  'no' to end game\")\n",
    "    print()\n",
    "    \n",
    "    play_magic_8 = input('Do you want to try again?\\n')\n",
    "    \n",
    "    play_magic_8 = play_magic_8.lower()\n",
    "    \n",
    "    if play_magic_8 == 'yes':\n",
    "        question = input('Please ask magic 8 your question:\\n')\n",
    "    else:\n",
    "        print()\n",
    "        print(f'Your response was {play_magic_8}. Thank you for playing')\n",
    "        break\n",
    "    \n",
    "    \n",
    "    \n",
    "    "
   ]
  },
  {
   "cell_type": "code",
   "execution_count": null,
   "id": "7682c5a8",
   "metadata": {},
   "outputs": [],
   "source": []
  }
 ],
 "metadata": {
  "kernelspec": {
   "display_name": "Python 3 (ipykernel)",
   "language": "python",
   "name": "python3"
  },
  "language_info": {
   "codemirror_mode": {
    "name": "ipython",
    "version": 3
   },
   "file_extension": ".py",
   "mimetype": "text/x-python",
   "name": "python",
   "nbconvert_exporter": "python",
   "pygments_lexer": "ipython3",
   "version": "3.9.7"
  }
 },
 "nbformat": 4,
 "nbformat_minor": 5
}
